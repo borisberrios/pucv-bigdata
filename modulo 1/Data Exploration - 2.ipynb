{
 "cells": [
  {
   "cell_type": "markdown",
   "metadata": {},
   "source": [
    "# Data Exploration - 2"
   ]
  },
  {
   "cell_type": "markdown",
   "metadata": {},
   "source": [
    "## Carga de datos\n",
    "Se realiza carga de datos obtenidos mediante web crawling a pollstar.com"
   ]
  },
  {
   "cell_type": "code",
   "execution_count": 1,
   "metadata": {},
   "outputs": [],
   "source": [
    "import pandas as pd\n",
    "import matplotlib.pyplot as plt\n",
    "import glob\n",
    "from pandas.plotting import lag_plot\n",
    "import numpy  as np"
   ]
  },
  {
   "cell_type": "code",
   "execution_count": 2,
   "metadata": {},
   "outputs": [
    {
     "data": {
      "text/html": [
       "<div>\n",
       "<style scoped>\n",
       "    .dataframe tbody tr th:only-of-type {\n",
       "        vertical-align: middle;\n",
       "    }\n",
       "\n",
       "    .dataframe tbody tr th {\n",
       "        vertical-align: top;\n",
       "    }\n",
       "\n",
       "    .dataframe thead th {\n",
       "        text-align: right;\n",
       "    }\n",
       "</style>\n",
       "<table border=\"1\" class=\"dataframe\">\n",
       "  <thead>\n",
       "    <tr style=\"text-align: right;\">\n",
       "      <th></th>\n",
       "      <th>StartPlayDate</th>\n",
       "      <th>sortName</th>\n",
       "      <th>eventName</th>\n",
       "      <th>venue</th>\n",
       "      <th>cityStateCountry</th>\n",
       "      <th>numTicketSold</th>\n",
       "      <th>capacity</th>\n",
       "      <th>capacityPercentage</th>\n",
       "      <th>ticketPriceFrom</th>\n",
       "      <th>ticketriceTo</th>\n",
       "      <th>grossUSD</th>\n",
       "      <th>currency</th>\n",
       "      <th>grossGate</th>\n",
       "      <th>numShows</th>\n",
       "    </tr>\n",
       "  </thead>\n",
       "  <tbody>\n",
       "    <tr>\n",
       "      <th>0</th>\n",
       "      <td>2018-05-16</td>\n",
       "      <td>DJAMILA</td>\n",
       "      <td>Djamila</td>\n",
       "      <td>Stadsschouwburg</td>\n",
       "      <td>Antwerp, Belgium</td>\n",
       "      <td>512</td>\n",
       "      <td>1912</td>\n",
       "      <td>27</td>\n",
       "      <td>17.0</td>\n",
       "      <td>88.0</td>\n",
       "      <td>20235</td>\n",
       "      <td>Euro</td>\n",
       "      <td>16724</td>\n",
       "      <td>1</td>\n",
       "    </tr>\n",
       "    <tr>\n",
       "      <th>1</th>\n",
       "      <td>2018-05-15</td>\n",
       "      <td>LUIS MIGUEL</td>\n",
       "      <td>Luis Miguel</td>\n",
       "      <td>Auditorio Nacional</td>\n",
       "      <td>Mexico City, Mexico</td>\n",
       "      <td>28860</td>\n",
       "      <td>9620</td>\n",
       "      <td>100</td>\n",
       "      <td>290.0</td>\n",
       "      <td>4990.0</td>\n",
       "      <td>2549264</td>\n",
       "      <td>Pesos</td>\n",
       "      <td>47667615</td>\n",
       "      <td>3</td>\n",
       "    </tr>\n",
       "    <tr>\n",
       "      <th>2</th>\n",
       "      <td>2018-05-13</td>\n",
       "      <td>AMBROSIA</td>\n",
       "      <td>Ambrosia</td>\n",
       "      <td>Coeur d'Alene Casino</td>\n",
       "      <td>Worley, ID</td>\n",
       "      <td>527</td>\n",
       "      <td>1800</td>\n",
       "      <td>30</td>\n",
       "      <td>20.0</td>\n",
       "      <td>25.0</td>\n",
       "      <td>10385</td>\n",
       "      <td>US DOLLAR</td>\n",
       "      <td>10385</td>\n",
       "      <td>1</td>\n",
       "    </tr>\n",
       "    <tr>\n",
       "      <th>3</th>\n",
       "      <td>2018-05-12</td>\n",
       "      <td>ANGUS JULIA STONE</td>\n",
       "      <td>Angus &amp; Julia Stone</td>\n",
       "      <td>Hordern Pavilion</td>\n",
       "      <td>Moore Park, Australia</td>\n",
       "      <td>5421</td>\n",
       "      <td>5421</td>\n",
       "      <td>100</td>\n",
       "      <td>89.9</td>\n",
       "      <td>0.0</td>\n",
       "      <td>321373</td>\n",
       "      <td>Australian</td>\n",
       "      <td>425772</td>\n",
       "      <td>1</td>\n",
       "    </tr>\n",
       "    <tr>\n",
       "      <th>4</th>\n",
       "      <td>2018-05-11</td>\n",
       "      <td>3TEETH</td>\n",
       "      <td>3Teeth</td>\n",
       "      <td>Rebellion Bar</td>\n",
       "      <td>Manchester, United Kingdom</td>\n",
       "      <td>166</td>\n",
       "      <td>450</td>\n",
       "      <td>37</td>\n",
       "      <td>10.0</td>\n",
       "      <td>12.5</td>\n",
       "      <td>2301</td>\n",
       "      <td>UK Pounds</td>\n",
       "      <td>1672</td>\n",
       "      <td>1</td>\n",
       "    </tr>\n",
       "  </tbody>\n",
       "</table>\n",
       "</div>"
      ],
      "text/plain": [
       "  StartPlayDate           sortName            eventName                 venue  \\\n",
       "0    2018-05-16            DJAMILA              Djamila       Stadsschouwburg   \n",
       "1    2018-05-15        LUIS MIGUEL          Luis Miguel    Auditorio Nacional   \n",
       "2    2018-05-13           AMBROSIA             Ambrosia  Coeur d'Alene Casino   \n",
       "3    2018-05-12  ANGUS JULIA STONE  Angus & Julia Stone      Hordern Pavilion   \n",
       "4    2018-05-11             3TEETH               3Teeth         Rebellion Bar   \n",
       "\n",
       "             cityStateCountry  numTicketSold  capacity  capacityPercentage  \\\n",
       "0            Antwerp, Belgium            512      1912                  27   \n",
       "1         Mexico City, Mexico          28860      9620                 100   \n",
       "2                  Worley, ID            527      1800                  30   \n",
       "3       Moore Park, Australia           5421      5421                 100   \n",
       "4  Manchester, United Kingdom            166       450                  37   \n",
       "\n",
       "   ticketPriceFrom  ticketriceTo  grossUSD    currency  grossGate  numShows  \n",
       "0             17.0          88.0     20235        Euro      16724         1  \n",
       "1            290.0        4990.0   2549264       Pesos   47667615         3  \n",
       "2             20.0          25.0     10385   US DOLLAR      10385         1  \n",
       "3             89.9           0.0    321373  Australian     425772         1  \n",
       "4             10.0          12.5      2301   UK Pounds       1672         1  "
      ]
     },
     "execution_count": 2,
     "metadata": {},
     "output_type": "execute_result"
    }
   ],
   "source": [
    "filename = \"/home/bberrios/experimento-1/filtrar/live_boxoffice-all-4.txt\"\n",
    "dateparse = lambda x: pd.datetime.strptime(x, '%m/%d/%Y')\n",
    "events = pd.read_csv(filename, sep='\\t', parse_dates=['StartPlayDate'], date_parser=dateparse)\n",
    "events.head()"
   ]
  },
  {
   "cell_type": "markdown",
   "metadata": {},
   "source": [
    "## Influye el día del evento en el éxito de un artista"
   ]
  },
  {
   "cell_type": "markdown",
   "metadata": {},
   "source": [
    "### Enero 2018"
   ]
  },
  {
   "cell_type": "code",
   "execution_count": 63,
   "metadata": {},
   "outputs": [
    {
     "data": {
      "text/plain": [
       "<matplotlib.collections.PathCollection at 0x7f0fe6356f50>"
      ]
     },
     "execution_count": 63,
     "metadata": {},
     "output_type": "execute_result"
    },
    {
     "data": {
      "image/png": "[encoded data removed]",
      "text/plain": [
       "<Figure size 3600x720 with 1 Axes>"
      ]
     },
     "metadata": {},
     "output_type": "display_data"
    }
   ],
   "source": [
    "january = events[ \n",
    "    (events.StartPlayDate >= '2018-01-01') & (events.StartPlayDate <= '2018-01-31')]\n",
    "\n",
    "plt.figure(figsize=(50, 10))\n",
    "plt.scatter(january['StartPlayDate'].tolist(), january['capacityPercentage'])"
   ]
  },
  {
   "cell_type": "markdown",
   "metadata": {},
   "source": [
    "Buscando algun dia donde hayan habido solo éxitos \n",
    "(mínima venta del día supera el 80%) : **Sin hallazgos**"
   ]
  },
  {
   "cell_type": "code",
   "execution_count": 64,
   "metadata": {},
   "outputs": [
    {
     "data": {
      "text/html": [
       "<div>\n",
       "<style scoped>\n",
       "    .dataframe tbody tr th:only-of-type {\n",
       "        vertical-align: middle;\n",
       "    }\n",
       "\n",
       "    .dataframe tbody tr th {\n",
       "        vertical-align: top;\n",
       "    }\n",
       "\n",
       "    .dataframe thead th {\n",
       "        text-align: right;\n",
       "    }\n",
       "</style>\n",
       "<table border=\"1\" class=\"dataframe\">\n",
       "  <thead>\n",
       "    <tr style=\"text-align: right;\">\n",
       "      <th></th>\n",
       "      <th>StartPlayDate</th>\n",
       "      <th>min</th>\n",
       "      <th>count</th>\n",
       "    </tr>\n",
       "  </thead>\n",
       "  <tbody>\n",
       "    <tr>\n",
       "      <th>7</th>\n",
       "      <td>2018-01-30</td>\n",
       "      <td>65</td>\n",
       "      <td>7</td>\n",
       "    </tr>\n",
       "    <tr>\n",
       "      <th>5</th>\n",
       "      <td>2018-01-28</td>\n",
       "      <td>64</td>\n",
       "      <td>4</td>\n",
       "    </tr>\n",
       "    <tr>\n",
       "      <th>0</th>\n",
       "      <td>2018-01-23</td>\n",
       "      <td>58</td>\n",
       "      <td>4</td>\n",
       "    </tr>\n",
       "    <tr>\n",
       "      <th>1</th>\n",
       "      <td>2018-01-24</td>\n",
       "      <td>53</td>\n",
       "      <td>2</td>\n",
       "    </tr>\n",
       "    <tr>\n",
       "      <th>6</th>\n",
       "      <td>2018-01-29</td>\n",
       "      <td>52</td>\n",
       "      <td>3</td>\n",
       "    </tr>\n",
       "  </tbody>\n",
       "</table>\n",
       "</div>"
      ],
      "text/plain": [
       "  StartPlayDate  min  count\n",
       "7    2018-01-30   65      7\n",
       "5    2018-01-28   64      4\n",
       "0    2018-01-23   58      4\n",
       "1    2018-01-24   53      2\n",
       "6    2018-01-29   52      3"
      ]
     },
     "execution_count": 64,
     "metadata": {},
     "output_type": "execute_result"
    }
   ],
   "source": [
    "grouping_january = january.groupby('StartPlayDate', as_index = False)\n",
    "df = grouping_january['capacityPercentage'].agg(['min', 'count']).replace(np.nan, 0, regex=True)\n",
    "df=df.reset_index()\n",
    "df.sort_values(by = ['min'], ascending = [0]).head()"
   ]
  },
  {
   "cell_type": "markdown",
   "metadata": {},
   "source": [
    "Buscando algun dia donde hayan habido solo fracasos (\n",
    "máxima venta del día no supera el 60%): **Sin hallazgos**"
   ]
  },
  {
   "cell_type": "code",
   "execution_count": 65,
   "metadata": {},
   "outputs": [
    {
     "data": {
      "text/html": [
       "<div>\n",
       "<style scoped>\n",
       "    .dataframe tbody tr th:only-of-type {\n",
       "        vertical-align: middle;\n",
       "    }\n",
       "\n",
       "    .dataframe tbody tr th {\n",
       "        vertical-align: top;\n",
       "    }\n",
       "\n",
       "    .dataframe thead th {\n",
       "        text-align: right;\n",
       "    }\n",
       "</style>\n",
       "<table border=\"1\" class=\"dataframe\">\n",
       "  <thead>\n",
       "    <tr style=\"text-align: right;\">\n",
       "      <th></th>\n",
       "      <th>StartPlayDate</th>\n",
       "      <th>max</th>\n",
       "      <th>count</th>\n",
       "    </tr>\n",
       "  </thead>\n",
       "  <tbody>\n",
       "    <tr>\n",
       "      <th>6</th>\n",
       "      <td>2018-01-29</td>\n",
       "      <td>80</td>\n",
       "      <td>3</td>\n",
       "    </tr>\n",
       "    <tr>\n",
       "      <th>0</th>\n",
       "      <td>2018-01-23</td>\n",
       "      <td>84</td>\n",
       "      <td>4</td>\n",
       "    </tr>\n",
       "    <tr>\n",
       "      <th>1</th>\n",
       "      <td>2018-01-24</td>\n",
       "      <td>100</td>\n",
       "      <td>2</td>\n",
       "    </tr>\n",
       "    <tr>\n",
       "      <th>2</th>\n",
       "      <td>2018-01-25</td>\n",
       "      <td>100</td>\n",
       "      <td>7</td>\n",
       "    </tr>\n",
       "    <tr>\n",
       "      <th>3</th>\n",
       "      <td>2018-01-26</td>\n",
       "      <td>100</td>\n",
       "      <td>10</td>\n",
       "    </tr>\n",
       "  </tbody>\n",
       "</table>\n",
       "</div>"
      ],
      "text/plain": [
       "  StartPlayDate  max  count\n",
       "6    2018-01-29   80      3\n",
       "0    2018-01-23   84      4\n",
       "1    2018-01-24  100      2\n",
       "2    2018-01-25  100      7\n",
       "3    2018-01-26  100     10"
      ]
     },
     "execution_count": 65,
     "metadata": {},
     "output_type": "execute_result"
    }
   ],
   "source": [
    "grouping_january = january.groupby('StartPlayDate', as_index = False)\n",
    "df = grouping_january['capacityPercentage'].agg(['max', 'count']).replace(np.nan, 0, regex=True)\n",
    "df=df.reset_index()\n",
    "df.sort_values(by = ['max'], ascending = [1]).head()"
   ]
  },
  {
   "cell_type": "markdown",
   "metadata": {},
   "source": [
    "### Febrero 2018"
   ]
  },
  {
   "cell_type": "code",
   "execution_count": 66,
   "metadata": {},
   "outputs": [
    {
     "data": {
      "text/plain": [
       "<matplotlib.collections.PathCollection at 0x7f0fe6322f90>"
      ]
     },
     "execution_count": 66,
     "metadata": {},
     "output_type": "execute_result"
    },
    {
     "data": {
      "image/png": "[encoded data removed]",
      "text/plain": [
       "<Figure size 3600x720 with 1 Axes>"
      ]
     },
     "metadata": {},
     "output_type": "display_data"
    }
   ],
   "source": [
    "february = events[ \n",
    "    (events.StartPlayDate >= '2018-02-01') & (events.StartPlayDate <= '2018-02-28')]\n",
    "\n",
    "plt.figure(figsize=(50, 10))\n",
    "plt.scatter(february['StartPlayDate'].tolist(), february['capacityPercentage'])"
   ]
  },
  {
   "cell_type": "markdown",
   "metadata": {},
   "source": [
    "Buscando algun dia donde hayan habido solo éxitos \n",
    "(mínima venta del día supera el 80%) :\n",
    "\n",
    "**domingo 4 de febrero solo éxitos**: Solo 1 evento en el día"
   ]
  },
  {
   "cell_type": "code",
   "execution_count": 67,
   "metadata": {},
   "outputs": [
    {
     "data": {
      "text/html": [
       "<div>\n",
       "<style scoped>\n",
       "    .dataframe tbody tr th:only-of-type {\n",
       "        vertical-align: middle;\n",
       "    }\n",
       "\n",
       "    .dataframe tbody tr th {\n",
       "        vertical-align: top;\n",
       "    }\n",
       "\n",
       "    .dataframe thead th {\n",
       "        text-align: right;\n",
       "    }\n",
       "</style>\n",
       "<table border=\"1\" class=\"dataframe\">\n",
       "  <thead>\n",
       "    <tr style=\"text-align: right;\">\n",
       "      <th></th>\n",
       "      <th>StartPlayDate</th>\n",
       "      <th>min</th>\n",
       "      <th>count</th>\n",
       "    </tr>\n",
       "  </thead>\n",
       "  <tbody>\n",
       "    <tr>\n",
       "      <th>3</th>\n",
       "      <td>2018-02-04</td>\n",
       "      <td>100</td>\n",
       "      <td>1</td>\n",
       "    </tr>\n",
       "    <tr>\n",
       "      <th>10</th>\n",
       "      <td>2018-02-11</td>\n",
       "      <td>63</td>\n",
       "      <td>9</td>\n",
       "    </tr>\n",
       "    <tr>\n",
       "      <th>20</th>\n",
       "      <td>2018-02-21</td>\n",
       "      <td>61</td>\n",
       "      <td>5</td>\n",
       "    </tr>\n",
       "    <tr>\n",
       "      <th>25</th>\n",
       "      <td>2018-02-26</td>\n",
       "      <td>49</td>\n",
       "      <td>10</td>\n",
       "    </tr>\n",
       "    <tr>\n",
       "      <th>7</th>\n",
       "      <td>2018-02-08</td>\n",
       "      <td>46</td>\n",
       "      <td>13</td>\n",
       "    </tr>\n",
       "  </tbody>\n",
       "</table>\n",
       "</div>"
      ],
      "text/plain": [
       "   StartPlayDate  min  count\n",
       "3     2018-02-04  100      1\n",
       "10    2018-02-11   63      9\n",
       "20    2018-02-21   61      5\n",
       "25    2018-02-26   49     10\n",
       "7     2018-02-08   46     13"
      ]
     },
     "execution_count": 67,
     "metadata": {},
     "output_type": "execute_result"
    }
   ],
   "source": [
    "grouping_february = february.groupby('StartPlayDate', as_index = False)\n",
    "df = grouping_february['capacityPercentage'].agg(['min', 'count']).replace(np.nan, 0, regex=True)\n",
    "df=df.reset_index()\n",
    "df.sort_values(by = ['min'], ascending = [0]).head()"
   ]
  },
  {
   "cell_type": "markdown",
   "metadata": {},
   "source": [
    "Buscando algun dia donde hayan habido solo fracasos (\n",
    "máxima venta del día no supera el 60%): **Sin hallazgos**"
   ]
  },
  {
   "cell_type": "code",
   "execution_count": 68,
   "metadata": {},
   "outputs": [
    {
     "data": {
      "text/html": [
       "<div>\n",
       "<style scoped>\n",
       "    .dataframe tbody tr th:only-of-type {\n",
       "        vertical-align: middle;\n",
       "    }\n",
       "\n",
       "    .dataframe tbody tr th {\n",
       "        vertical-align: top;\n",
       "    }\n",
       "\n",
       "    .dataframe thead th {\n",
       "        text-align: right;\n",
       "    }\n",
       "</style>\n",
       "<table border=\"1\" class=\"dataframe\">\n",
       "  <thead>\n",
       "    <tr style=\"text-align: right;\">\n",
       "      <th></th>\n",
       "      <th>StartPlayDate</th>\n",
       "      <th>max</th>\n",
       "      <th>count</th>\n",
       "    </tr>\n",
       "  </thead>\n",
       "  <tbody>\n",
       "    <tr>\n",
       "      <th>0</th>\n",
       "      <td>2018-02-01</td>\n",
       "      <td>100</td>\n",
       "      <td>12</td>\n",
       "    </tr>\n",
       "    <tr>\n",
       "      <th>25</th>\n",
       "      <td>2018-02-26</td>\n",
       "      <td>100</td>\n",
       "      <td>10</td>\n",
       "    </tr>\n",
       "    <tr>\n",
       "      <th>24</th>\n",
       "      <td>2018-02-25</td>\n",
       "      <td>100</td>\n",
       "      <td>12</td>\n",
       "    </tr>\n",
       "    <tr>\n",
       "      <th>23</th>\n",
       "      <td>2018-02-24</td>\n",
       "      <td>100</td>\n",
       "      <td>26</td>\n",
       "    </tr>\n",
       "    <tr>\n",
       "      <th>22</th>\n",
       "      <td>2018-02-23</td>\n",
       "      <td>100</td>\n",
       "      <td>24</td>\n",
       "    </tr>\n",
       "  </tbody>\n",
       "</table>\n",
       "</div>"
      ],
      "text/plain": [
       "   StartPlayDate  max  count\n",
       "0     2018-02-01  100     12\n",
       "25    2018-02-26  100     10\n",
       "24    2018-02-25  100     12\n",
       "23    2018-02-24  100     26\n",
       "22    2018-02-23  100     24"
      ]
     },
     "execution_count": 68,
     "metadata": {},
     "output_type": "execute_result"
    }
   ],
   "source": [
    "grouping_february = february.groupby('StartPlayDate', as_index = False)\n",
    "df = grouping_february['capacityPercentage'].agg(['max', 'count']).replace(np.nan, 0, regex=True)\n",
    "df=df.reset_index()\n",
    "df.sort_values(by = ['max'], ascending = [1]).head()"
   ]
  },
  {
   "cell_type": "markdown",
   "metadata": {},
   "source": [
    "### Marzo 2010"
   ]
  },
  {
   "cell_type": "code",
   "execution_count": 69,
   "metadata": {},
   "outputs": [
    {
     "data": {
      "text/plain": [
       "<matplotlib.collections.PathCollection at 0x7f0fe6235390>"
      ]
     },
     "execution_count": 69,
     "metadata": {},
     "output_type": "execute_result"
    },
    {
     "data": {
      "image/png": "[encoded data removed]",
      "text/plain": [
       "<Figure size 3600x720 with 1 Axes>"
      ]
     },
     "metadata": {},
     "output_type": "display_data"
    }
   ],
   "source": [
    "march = events[ \n",
    "    (events.StartPlayDate >= '2018-03-01') & (events.StartPlayDate <= '2018-03-31')]\n",
    "\n",
    "plt.figure(figsize=(50, 10))\n",
    "plt.scatter(march['StartPlayDate'].tolist(), march['capacityPercentage'])"
   ]
  },
  {
   "cell_type": "markdown",
   "metadata": {},
   "source": [
    "Buscando algun dia donde hayan habido solo éxitos \n",
    "(mínima venta del día supera el 80%) : \n",
    "\n",
    "**lunes 12 de marzo solo éxitos, 12 eventos **"
   ]
  },
  {
   "cell_type": "code",
   "execution_count": 70,
   "metadata": {},
   "outputs": [
    {
     "data": {
      "text/html": [
       "<div>\n",
       "<style scoped>\n",
       "    .dataframe tbody tr th:only-of-type {\n",
       "        vertical-align: middle;\n",
       "    }\n",
       "\n",
       "    .dataframe tbody tr th {\n",
       "        vertical-align: top;\n",
       "    }\n",
       "\n",
       "    .dataframe thead th {\n",
       "        text-align: right;\n",
       "    }\n",
       "</style>\n",
       "<table border=\"1\" class=\"dataframe\">\n",
       "  <thead>\n",
       "    <tr style=\"text-align: right;\">\n",
       "      <th></th>\n",
       "      <th>StartPlayDate</th>\n",
       "      <th>min</th>\n",
       "      <th>count</th>\n",
       "    </tr>\n",
       "  </thead>\n",
       "  <tbody>\n",
       "    <tr>\n",
       "      <th>11</th>\n",
       "      <td>2018-03-12</td>\n",
       "      <td>84</td>\n",
       "      <td>12</td>\n",
       "    </tr>\n",
       "    <tr>\n",
       "      <th>18</th>\n",
       "      <td>2018-03-19</td>\n",
       "      <td>56</td>\n",
       "      <td>13</td>\n",
       "    </tr>\n",
       "    <tr>\n",
       "      <th>4</th>\n",
       "      <td>2018-03-05</td>\n",
       "      <td>42</td>\n",
       "      <td>10</td>\n",
       "    </tr>\n",
       "    <tr>\n",
       "      <th>5</th>\n",
       "      <td>2018-03-06</td>\n",
       "      <td>40</td>\n",
       "      <td>20</td>\n",
       "    </tr>\n",
       "    <tr>\n",
       "      <th>26</th>\n",
       "      <td>2018-03-27</td>\n",
       "      <td>35</td>\n",
       "      <td>30</td>\n",
       "    </tr>\n",
       "  </tbody>\n",
       "</table>\n",
       "</div>"
      ],
      "text/plain": [
       "   StartPlayDate  min  count\n",
       "11    2018-03-12   84     12\n",
       "18    2018-03-19   56     13\n",
       "4     2018-03-05   42     10\n",
       "5     2018-03-06   40     20\n",
       "26    2018-03-27   35     30"
      ]
     },
     "execution_count": 70,
     "metadata": {},
     "output_type": "execute_result"
    }
   ],
   "source": [
    "grouping_march = march.groupby('StartPlayDate', as_index = False)\n",
    "df = grouping_march['capacityPercentage'].agg(['min', 'count']).replace(np.nan, 0, regex=True)\n",
    "df=df.reset_index()\n",
    "df.sort_values(by = ['min'], ascending = [0]).head()"
   ]
  },
  {
   "cell_type": "markdown",
   "metadata": {},
   "source": [
    "Buscando algun dia donde hayan habido solo fracasos (\n",
    "máxima venta del día no supera el 60%): **Sin hallazgos**"
   ]
  },
  {
   "cell_type": "code",
   "execution_count": 71,
   "metadata": {},
   "outputs": [
    {
     "data": {
      "text/html": [
       "<div>\n",
       "<style scoped>\n",
       "    .dataframe tbody tr th:only-of-type {\n",
       "        vertical-align: middle;\n",
       "    }\n",
       "\n",
       "    .dataframe tbody tr th {\n",
       "        vertical-align: top;\n",
       "    }\n",
       "\n",
       "    .dataframe thead th {\n",
       "        text-align: right;\n",
       "    }\n",
       "</style>\n",
       "<table border=\"1\" class=\"dataframe\">\n",
       "  <thead>\n",
       "    <tr style=\"text-align: right;\">\n",
       "      <th></th>\n",
       "      <th>StartPlayDate</th>\n",
       "      <th>max</th>\n",
       "      <th>count</th>\n",
       "    </tr>\n",
       "  </thead>\n",
       "  <tbody>\n",
       "    <tr>\n",
       "      <th>0</th>\n",
       "      <td>2018-03-01</td>\n",
       "      <td>100</td>\n",
       "      <td>15</td>\n",
       "    </tr>\n",
       "    <tr>\n",
       "      <th>28</th>\n",
       "      <td>2018-03-29</td>\n",
       "      <td>100</td>\n",
       "      <td>35</td>\n",
       "    </tr>\n",
       "    <tr>\n",
       "      <th>27</th>\n",
       "      <td>2018-03-28</td>\n",
       "      <td>100</td>\n",
       "      <td>42</td>\n",
       "    </tr>\n",
       "    <tr>\n",
       "      <th>26</th>\n",
       "      <td>2018-03-27</td>\n",
       "      <td>100</td>\n",
       "      <td>30</td>\n",
       "    </tr>\n",
       "    <tr>\n",
       "      <th>25</th>\n",
       "      <td>2018-03-26</td>\n",
       "      <td>100</td>\n",
       "      <td>21</td>\n",
       "    </tr>\n",
       "  </tbody>\n",
       "</table>\n",
       "</div>"
      ],
      "text/plain": [
       "   StartPlayDate  max  count\n",
       "0     2018-03-01  100     15\n",
       "28    2018-03-29  100     35\n",
       "27    2018-03-28  100     42\n",
       "26    2018-03-27  100     30\n",
       "25    2018-03-26  100     21"
      ]
     },
     "execution_count": 71,
     "metadata": {},
     "output_type": "execute_result"
    }
   ],
   "source": [
    "grouping_march = march.groupby('StartPlayDate', as_index = False)\n",
    "df = grouping_march['capacityPercentage'].agg(['max', 'count']).replace(np.nan, 0, regex=True)\n",
    "df=df.reset_index()\n",
    "df.sort_values(by = ['max'], ascending = [1]).head()"
   ]
  },
  {
   "cell_type": "markdown",
   "metadata": {},
   "source": [
    "### Abril 2018"
   ]
  },
  {
   "cell_type": "code",
   "execution_count": 72,
   "metadata": {},
   "outputs": [
    {
     "data": {
      "text/plain": [
       "<matplotlib.collections.PathCollection at 0x7f0fe61f6810>"
      ]
     },
     "execution_count": 72,
     "metadata": {},
     "output_type": "execute_result"
    },
    {
     "data": {
      "image/png": "[encoded data removed]",
      "text/plain": [
       "<Figure size 3600x720 with 1 Axes>"
      ]
     },
     "metadata": {},
     "output_type": "display_data"
    }
   ],
   "source": [
    "april = events[ \n",
    "    (events.StartPlayDate >= '2018-04-01') & (events.StartPlayDate <= '2018-04-30')]\n",
    "\n",
    "plt.figure(figsize=(50, 10))\n",
    "plt.scatter(april['StartPlayDate'].tolist(), april['capacityPercentage'])"
   ]
  },
  {
   "cell_type": "markdown",
   "metadata": {},
   "source": [
    "Buscando algun dia donde hayan habido solo éxitos \n",
    "(mínima venta del día supera el 80%) : \n",
    "\n",
    "\n",
    "**lunes 30 de abril solo éxitos, 1 evento **"
   ]
  },
  {
   "cell_type": "code",
   "execution_count": 73,
   "metadata": {},
   "outputs": [
    {
     "data": {
      "text/html": [
       "<div>\n",
       "<style scoped>\n",
       "    .dataframe tbody tr th:only-of-type {\n",
       "        vertical-align: middle;\n",
       "    }\n",
       "\n",
       "    .dataframe tbody tr th {\n",
       "        vertical-align: top;\n",
       "    }\n",
       "\n",
       "    .dataframe thead th {\n",
       "        text-align: right;\n",
       "    }\n",
       "</style>\n",
       "<table border=\"1\" class=\"dataframe\">\n",
       "  <thead>\n",
       "    <tr style=\"text-align: right;\">\n",
       "      <th></th>\n",
       "      <th>StartPlayDate</th>\n",
       "      <th>min</th>\n",
       "      <th>count</th>\n",
       "    </tr>\n",
       "  </thead>\n",
       "  <tbody>\n",
       "    <tr>\n",
       "      <th>29</th>\n",
       "      <td>2018-04-30</td>\n",
       "      <td>100</td>\n",
       "      <td>1</td>\n",
       "    </tr>\n",
       "    <tr>\n",
       "      <th>1</th>\n",
       "      <td>2018-04-02</td>\n",
       "      <td>40</td>\n",
       "      <td>17</td>\n",
       "    </tr>\n",
       "    <tr>\n",
       "      <th>22</th>\n",
       "      <td>2018-04-23</td>\n",
       "      <td>38</td>\n",
       "      <td>21</td>\n",
       "    </tr>\n",
       "    <tr>\n",
       "      <th>16</th>\n",
       "      <td>2018-04-17</td>\n",
       "      <td>37</td>\n",
       "      <td>39</td>\n",
       "    </tr>\n",
       "    <tr>\n",
       "      <th>24</th>\n",
       "      <td>2018-04-25</td>\n",
       "      <td>35</td>\n",
       "      <td>18</td>\n",
       "    </tr>\n",
       "  </tbody>\n",
       "</table>\n",
       "</div>"
      ],
      "text/plain": [
       "   StartPlayDate  min  count\n",
       "29    2018-04-30  100      1\n",
       "1     2018-04-02   40     17\n",
       "22    2018-04-23   38     21\n",
       "16    2018-04-17   37     39\n",
       "24    2018-04-25   35     18"
      ]
     },
     "execution_count": 73,
     "metadata": {},
     "output_type": "execute_result"
    }
   ],
   "source": [
    "grouping_april = april.groupby('StartPlayDate', as_index = False)\n",
    "df = grouping_april['capacityPercentage'].agg(['min', 'count']).replace(np.nan, 0, regex=True)\n",
    "df=df.reset_index()\n",
    "df.sort_values(by = ['min'], ascending = [0]).head()"
   ]
  },
  {
   "cell_type": "markdown",
   "metadata": {},
   "source": [
    "Buscando algun dia donde hayan habido solo fracasos (\n",
    "máxima venta del día no supera el 60%): **Sin hallazgos**"
   ]
  },
  {
   "cell_type": "code",
   "execution_count": 74,
   "metadata": {},
   "outputs": [
    {
     "data": {
      "text/html": [
       "<div>\n",
       "<style scoped>\n",
       "    .dataframe tbody tr th:only-of-type {\n",
       "        vertical-align: middle;\n",
       "    }\n",
       "\n",
       "    .dataframe tbody tr th {\n",
       "        vertical-align: top;\n",
       "    }\n",
       "\n",
       "    .dataframe thead th {\n",
       "        text-align: right;\n",
       "    }\n",
       "</style>\n",
       "<table border=\"1\" class=\"dataframe\">\n",
       "  <thead>\n",
       "    <tr style=\"text-align: right;\">\n",
       "      <th></th>\n",
       "      <th>StartPlayDate</th>\n",
       "      <th>max</th>\n",
       "      <th>count</th>\n",
       "    </tr>\n",
       "  </thead>\n",
       "  <tbody>\n",
       "    <tr>\n",
       "      <th>0</th>\n",
       "      <td>2018-04-01</td>\n",
       "      <td>100</td>\n",
       "      <td>15</td>\n",
       "    </tr>\n",
       "    <tr>\n",
       "      <th>27</th>\n",
       "      <td>2018-04-28</td>\n",
       "      <td>100</td>\n",
       "      <td>29</td>\n",
       "    </tr>\n",
       "    <tr>\n",
       "      <th>26</th>\n",
       "      <td>2018-04-27</td>\n",
       "      <td>100</td>\n",
       "      <td>30</td>\n",
       "    </tr>\n",
       "    <tr>\n",
       "      <th>25</th>\n",
       "      <td>2018-04-26</td>\n",
       "      <td>100</td>\n",
       "      <td>22</td>\n",
       "    </tr>\n",
       "    <tr>\n",
       "      <th>24</th>\n",
       "      <td>2018-04-25</td>\n",
       "      <td>100</td>\n",
       "      <td>18</td>\n",
       "    </tr>\n",
       "  </tbody>\n",
       "</table>\n",
       "</div>"
      ],
      "text/plain": [
       "   StartPlayDate  max  count\n",
       "0     2018-04-01  100     15\n",
       "27    2018-04-28  100     29\n",
       "26    2018-04-27  100     30\n",
       "25    2018-04-26  100     22\n",
       "24    2018-04-25  100     18"
      ]
     },
     "execution_count": 74,
     "metadata": {},
     "output_type": "execute_result"
    }
   ],
   "source": [
    "grouping_april = april.groupby('StartPlayDate', as_index = False)\n",
    "df = grouping_april['capacityPercentage'].agg(['max', 'count']).replace(np.nan, 0, regex=True)\n",
    "df=df.reset_index()\n",
    "df.sort_values(by = ['max'], ascending = [1]).head()"
   ]
  },
  {
   "cell_type": "markdown",
   "metadata": {},
   "source": [
    "### Mayo 2018"
   ]
  },
  {
   "cell_type": "code",
   "execution_count": 75,
   "metadata": {},
   "outputs": [
    {
     "data": {
      "text/plain": [
       "<matplotlib.collections.PathCollection at 0x7f0fe61700d0>"
      ]
     },
     "execution_count": 75,
     "metadata": {},
     "output_type": "execute_result"
    },
    {
     "data": {
      "image/png": "[encoded data removed]",
      "text/plain": [
       "<Figure size 3600x720 with 1 Axes>"
      ]
     },
     "metadata": {},
     "output_type": "display_data"
    }
   ],
   "source": [
    "may = events[ \n",
    "    (events.StartPlayDate >= '2018-05-01') & (events.StartPlayDate <= '2018-05-31')]\n",
    "\n",
    "plt.figure(figsize=(50, 10))\n",
    "plt.scatter(may['StartPlayDate'].tolist(), may['capacityPercentage'])"
   ]
  },
  {
   "cell_type": "markdown",
   "metadata": {},
   "source": [
    "Buscando algun dia donde hayan habido solo éxitos \n",
    "(mínima venta del día supera el 80%) : \n",
    "\n",
    "\n",
    "**jueves 3 de mayo solo éxitos, 7 eventos **\n",
    "\n",
    "**viernes 4 de mayo solo éxitos, 6 eventos **\n",
    "\n",
    "**sabado 5 de mayo solo éxitos, 3 eventos **\n",
    "\n",
    "**domingo 6 de mayo solo éxitos, 2 eventos **\n",
    "\n",
    "**lunes 7 de mayo solo éxitos, 2 eventos **\n",
    "\n",
    "**martes 8 de mayo solo éxitos, 4 eventos **\n",
    "\n",
    "**miercoles 9 de mayo solo éxitos, 2 eventos **\n",
    "\n",
    "**sabado 12 de mayo solo éxitos, 1 evento **\n",
    "\n",
    "**martes 15 de mayo solo éxitos, 1 evento **"
   ]
  },
  {
   "cell_type": "code",
   "execution_count": 78,
   "metadata": {},
   "outputs": [
    {
     "data": {
      "text/html": [
       "<div>\n",
       "<style scoped>\n",
       "    .dataframe tbody tr th:only-of-type {\n",
       "        vertical-align: middle;\n",
       "    }\n",
       "\n",
       "    .dataframe tbody tr th {\n",
       "        vertical-align: top;\n",
       "    }\n",
       "\n",
       "    .dataframe thead th {\n",
       "        text-align: right;\n",
       "    }\n",
       "</style>\n",
       "<table border=\"1\" class=\"dataframe\">\n",
       "  <thead>\n",
       "    <tr style=\"text-align: right;\">\n",
       "      <th></th>\n",
       "      <th>StartPlayDate</th>\n",
       "      <th>min</th>\n",
       "      <th>count</th>\n",
       "    </tr>\n",
       "  </thead>\n",
       "  <tbody>\n",
       "    <tr>\n",
       "      <th>4</th>\n",
       "      <td>2018-05-05</td>\n",
       "      <td>100</td>\n",
       "      <td>3</td>\n",
       "    </tr>\n",
       "    <tr>\n",
       "      <th>6</th>\n",
       "      <td>2018-05-07</td>\n",
       "      <td>100</td>\n",
       "      <td>2</td>\n",
       "    </tr>\n",
       "    <tr>\n",
       "      <th>11</th>\n",
       "      <td>2018-05-12</td>\n",
       "      <td>100</td>\n",
       "      <td>1</td>\n",
       "    </tr>\n",
       "    <tr>\n",
       "      <th>13</th>\n",
       "      <td>2018-05-15</td>\n",
       "      <td>100</td>\n",
       "      <td>1</td>\n",
       "    </tr>\n",
       "    <tr>\n",
       "      <th>7</th>\n",
       "      <td>2018-05-08</td>\n",
       "      <td>95</td>\n",
       "      <td>4</td>\n",
       "    </tr>\n",
       "    <tr>\n",
       "      <th>5</th>\n",
       "      <td>2018-05-06</td>\n",
       "      <td>94</td>\n",
       "      <td>2</td>\n",
       "    </tr>\n",
       "    <tr>\n",
       "      <th>8</th>\n",
       "      <td>2018-05-09</td>\n",
       "      <td>94</td>\n",
       "      <td>2</td>\n",
       "    </tr>\n",
       "    <tr>\n",
       "      <th>2</th>\n",
       "      <td>2018-05-03</td>\n",
       "      <td>85</td>\n",
       "      <td>7</td>\n",
       "    </tr>\n",
       "    <tr>\n",
       "      <th>3</th>\n",
       "      <td>2018-05-04</td>\n",
       "      <td>82</td>\n",
       "      <td>6</td>\n",
       "    </tr>\n",
       "    <tr>\n",
       "      <th>0</th>\n",
       "      <td>2018-05-01</td>\n",
       "      <td>73</td>\n",
       "      <td>7</td>\n",
       "    </tr>\n",
       "  </tbody>\n",
       "</table>\n",
       "</div>"
      ],
      "text/plain": [
       "   StartPlayDate  min  count\n",
       "4     2018-05-05  100      3\n",
       "6     2018-05-07  100      2\n",
       "11    2018-05-12  100      1\n",
       "13    2018-05-15  100      1\n",
       "7     2018-05-08   95      4\n",
       "5     2018-05-06   94      2\n",
       "8     2018-05-09   94      2\n",
       "2     2018-05-03   85      7\n",
       "3     2018-05-04   82      6\n",
       "0     2018-05-01   73      7"
      ]
     },
     "execution_count": 78,
     "metadata": {},
     "output_type": "execute_result"
    }
   ],
   "source": [
    "grouping_may = may.groupby('StartPlayDate', as_index = False)\n",
    "df = grouping_may['capacityPercentage'].agg(['min', 'count']).replace(np.nan, 0, regex=True)\n",
    "df=df.reset_index()\n",
    "df.sort_values(by = ['min'], ascending = [0])[:10]"
   ]
  },
  {
   "cell_type": "markdown",
   "metadata": {},
   "source": [
    "Buscando algun dia donde hayan habido solo fracasos (\n",
    "máxima venta del día no supera el 60%): \n",
    "\n",
    "**domingo 13 de mayo solo fracasos, 1 evento **\n",
    "\n",
    "**miercoles 16 de mayo solo fracasos, 1 evento **"
   ]
  },
  {
   "cell_type": "code",
   "execution_count": 77,
   "metadata": {},
   "outputs": [
    {
     "data": {
      "text/html": [
       "<div>\n",
       "<style scoped>\n",
       "    .dataframe tbody tr th:only-of-type {\n",
       "        vertical-align: middle;\n",
       "    }\n",
       "\n",
       "    .dataframe tbody tr th {\n",
       "        vertical-align: top;\n",
       "    }\n",
       "\n",
       "    .dataframe thead th {\n",
       "        text-align: right;\n",
       "    }\n",
       "</style>\n",
       "<table border=\"1\" class=\"dataframe\">\n",
       "  <thead>\n",
       "    <tr style=\"text-align: right;\">\n",
       "      <th></th>\n",
       "      <th>StartPlayDate</th>\n",
       "      <th>max</th>\n",
       "      <th>count</th>\n",
       "    </tr>\n",
       "  </thead>\n",
       "  <tbody>\n",
       "    <tr>\n",
       "      <th>14</th>\n",
       "      <td>2018-05-16</td>\n",
       "      <td>27</td>\n",
       "      <td>1</td>\n",
       "    </tr>\n",
       "    <tr>\n",
       "      <th>12</th>\n",
       "      <td>2018-05-13</td>\n",
       "      <td>30</td>\n",
       "      <td>1</td>\n",
       "    </tr>\n",
       "    <tr>\n",
       "      <th>9</th>\n",
       "      <td>2018-05-10</td>\n",
       "      <td>76</td>\n",
       "      <td>2</td>\n",
       "    </tr>\n",
       "    <tr>\n",
       "      <th>0</th>\n",
       "      <td>2018-05-01</td>\n",
       "      <td>100</td>\n",
       "      <td>7</td>\n",
       "    </tr>\n",
       "    <tr>\n",
       "      <th>1</th>\n",
       "      <td>2018-05-02</td>\n",
       "      <td>100</td>\n",
       "      <td>6</td>\n",
       "    </tr>\n",
       "  </tbody>\n",
       "</table>\n",
       "</div>"
      ],
      "text/plain": [
       "   StartPlayDate  max  count\n",
       "14    2018-05-16   27      1\n",
       "12    2018-05-13   30      1\n",
       "9     2018-05-10   76      2\n",
       "0     2018-05-01  100      7\n",
       "1     2018-05-02  100      6"
      ]
     },
     "execution_count": 77,
     "metadata": {},
     "output_type": "execute_result"
    }
   ],
   "source": [
    "grouping_may = may.groupby('StartPlayDate', as_index = False)\n",
    "df = grouping_may['capacityPercentage'].agg(['max', 'count']).replace(np.nan, 0, regex=True)\n",
    "df=df.reset_index()\n",
    "df.sort_values(by = ['max'], ascending = [1]).head()"
   ]
  },
  {
   "cell_type": "markdown",
   "metadata": {},
   "source": [
    "Para el mes de **mayo** las ticketeras no han liberado todos los resultados de venta, esto podría **explicar** el por qué de estos resultados."
   ]
  },
  {
   "cell_type": "code",
   "execution_count": null,
   "metadata": {},
   "outputs": [],
   "source": []
  }
 ],
 "metadata": {
  "kernelspec": {
   "display_name": "Python 2.7",
   "language": "python",
   "name": "py27"
  },
  "language_info": {
   "codemirror_mode": {
    "name": "ipython",
    "version": 2
   },
   "file_extension": ".py",
   "mimetype": "text/x-python",
   "name": "python",
   "nbconvert_exporter": "python",
   "pygments_lexer": "ipython2",
   "version": "2.7.14"
  }
 },
 "nbformat": 4,
 "nbformat_minor": 2
}
